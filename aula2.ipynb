{
 "cells": [
  {
   "cell_type": "code",
   "execution_count": 3,
   "metadata": {},
   "outputs": [
    {
     "name": "stdout",
     "output_type": "stream",
     "text": [
      "A raiz de 9 é 3.00\n"
     ]
    }
   ],
   "source": [
    "import math\n",
    "\n",
    "num  = int(input('Digite um número: '))\n",
    "raiz = math.sqrt(num)\n",
    "print(f'A raiz de {num} é {math.floor(raiz):.2f}')"
   ]
  },
  {
   "cell_type": "code",
   "execution_count": 13,
   "metadata": {},
   "outputs": [
    {
     "name": "stdout",
     "output_type": "stream",
     "text": [
      "3\n"
     ]
    }
   ],
   "source": [
    "import random\n",
    "\n",
    "n = random.randint(1, 10)\n",
    "print(n)"
   ]
  },
  {
   "cell_type": "code",
   "execution_count": 19,
   "metadata": {},
   "outputs": [
    {
     "name": "stdout",
     "output_type": "stream",
     "text": [
      "O número 3.0 arredondado é 3\n"
     ]
    }
   ],
   "source": [
    "numero = float(input('Digite um número: '))\n",
    "\n",
    "print(f'O número {numero} arredondado é {math.trunc(numero)}')\n"
   ]
  },
  {
   "cell_type": "code",
   "execution_count": 20,
   "metadata": {},
   "outputs": [
    {
     "name": "stdout",
     "output_type": "stream",
     "text": [
      "Sendo o cateto oposto 2.0 e o cateto adjacente 2.5 o valor da hipotenusa vale: 3.20\n"
     ]
    }
   ],
   "source": [
    "cateto_oposto = float(input('Digite o comprimento do cateto oposto: '))\n",
    "cateto_adjacente = float(input('Digite o comprimento do cateto adjacente: '))\n",
    "hipotenusa = math.hypot(cateto_oposto, cateto_adjacente)\n",
    "\n",
    "print(f'Sendo o cateto oposto {cateto_oposto} e o cateto adjacente {cateto_adjacente} o valor da hipotenusa vale: {hipotenusa:.2f}')"
   ]
  },
  {
   "cell_type": "code",
   "execution_count": 25,
   "metadata": {},
   "outputs": [
    {
     "name": "stdout",
     "output_type": "stream",
     "text": [
      "o ângulo de 30.0 tem o SENO de 0.50\n",
      "O ângulo de 30.0 tem o COSSENO de 0.87\n",
      "O ângulo de 30.0 tem a TANGENTE de 0.58\n"
     ]
    }
   ],
   "source": [
    "angulo = float(input('Digite um angulo qualquer: '))\n",
    "seno = math.sin(math.radians(angulo))\n",
    "coss = math.cos(math.radians(angulo))\n",
    "tangente = math.tan(math.radians(angulo))\n",
    "\n",
    "print(f'o ângulo de {angulo} tem o SENO de {seno:.2f}')\n",
    "print(f'O ângulo de {angulo} tem o COSSENO de {coss:.2f}')\n",
    "print(f'O ângulo de {angulo} tem a TANGENTE de {tangente:.2f}')"
   ]
  },
  {
   "cell_type": "code",
   "execution_count": 30,
   "metadata": {},
   "outputs": [
    {
     "name": "stdout",
     "output_type": "stream",
     "text": [
      "['dudu', 'carlos', 'gabi', 'paulo']\n",
      "O aluno escolhido foi: dudu\n"
     ]
    }
   ],
   "source": [
    "nome1 = input('Primeiro aluno: ')\n",
    "nome2 = input('Segundo aluno: ')\n",
    "nome3 = input('Terceito aluno: ')\n",
    "nome4 = input('quarto aluno: ')\n",
    "\n",
    "alunos = [nome1, nome2, nome3, nome4]\n",
    "\n",
    "escolhido = random.choice(alunos)\n",
    "\n",
    "print(alunos)\n",
    "print(f'O aluno escolhido foi: {escolhido}')"
   ]
  },
  {
   "cell_type": "code",
   "execution_count": 32,
   "metadata": {},
   "outputs": [
    {
     "name": "stdout",
     "output_type": "stream",
     "text": [
      "a ordem dos alunos: ['jose', 'ana', 'dudu', 'gabi']\n"
     ]
    }
   ],
   "source": [
    "nome1 = input('Primeiro aluno: ')\n",
    "nome2 = input('Segundo aluno: ')\n",
    "nome3 = input('Terceito aluno: ')\n",
    "nome4 = input('quarto aluno: ')\n",
    "\n",
    "alunos = [nome1, nome2, nome3, nome4]\n",
    "\n",
    "random.shuffle(alunos)\n",
    "\n",
    "print(f'a ordem dos alunos: {alunos}')"
   ]
  },
  {
   "cell_type": "code",
   "execution_count": 37,
   "metadata": {},
   "outputs": [
    {
     "name": "stdout",
     "output_type": "stream",
     "text": [
      "pygame 2.6.1 (SDL 2.28.4, Python 3.13.0)\n",
      "Hello from the pygame community. https://www.pygame.org/contribute.html\n"
     ]
    },
    {
     "data": {
      "text/plain": [
       "<Event(4352-AudioDeviceAdded {'which': 0, 'iscapture': 0})>"
      ]
     },
     "execution_count": 37,
     "metadata": {},
     "output_type": "execute_result"
    }
   ],
   "source": [
    "import pygame\n",
    "pygame.init()\n",
    "pygame.mixer.music.load('Kaleidoscope.mp3')\n",
    "pygame.mixer.music.play()\n",
    "pygame.event.wait()\n"
   ]
  },
  {
   "cell_type": "code",
   "execution_count": 19,
   "metadata": {},
   "outputs": [
    {
     "name": "stdout",
     "output_type": "stream",
     "text": [
      "Curso em Vídeo Python\n",
      "21\n",
      "o\n",
      "rso em\n",
      "roe íe yhn\n",
      "3\n"
     ]
    }
   ],
   "source": [
    "frase = 'Curso em Vídeo Python'\n",
    "print(frase)\n",
    "print(len(frase))\n",
    "print(frase[13])\n",
    "print(frase[2:8])\n",
    "print(frase[2::2])\n",
    "print(frase.upper().count('O'))\n",
    "\n",
    "\n"
   ]
  },
  {
   "cell_type": "code",
   "execution_count": 25,
   "metadata": {},
   "outputs": [
    {
     "name": "stdout",
     "output_type": "stream",
     "text": [
      "['Curso', 'em', 'Vídeo', 'Python']\n",
      "Vídeo\n",
      "y\n"
     ]
    }
   ],
   "source": [
    "dividido = frase.split()\n",
    "print(dividido)\n",
    "print(dividido[2])\n",
    "print(dividido[3][1])"
   ]
  },
  {
   "cell_type": "code",
   "execution_count": 21,
   "metadata": {},
   "outputs": [
    {
     "name": "stdout",
     "output_type": "stream",
     "text": [
      "Curso em Vídeo Android\n"
     ]
    }
   ],
   "source": [
    "frase2 = frase.replace('Python', 'Android')\n",
    "print(frase2)"
   ]
  },
  {
   "cell_type": "code",
   "execution_count": 36,
   "metadata": {},
   "outputs": [
    {
     "name": "stdout",
     "output_type": "stream",
     "text": [
      "O seu nome com todas as letras minúsculas: ana maria\n",
      "O seu nome com todas as letras maiúsculas: ANA MARIA\n",
      "Quantas letras tem o seu nome todo: 8\n",
      "Seu nome dividido: ['Ana', 'Maria']\n",
      "Seu primeiro nome: Ana\n",
      "Quantas letras tem o seu primeiro nome: 3\n"
     ]
    }
   ],
   "source": [
    "nome_completo = input('Digite o seu nome completo: ').strip()\n",
    "print(f'O seu nome com todas as letras minúsculas: {nome_completo.lower()}')\n",
    "print(f'O seu nome com todas as letras maiúsculas: {nome_completo.upper()}')\n",
    "\n",
    "print(f'Quantas letras tem o seu nome todo: {(len(nome_completo) - nome_completo.count(' '))}')\n",
    "\n",
    "nome_dividido = nome_completo.split()\n",
    "print(f'Seu nome dividido: {nome_dividido}')\n",
    "print(f'Seu primeiro nome: {nome_dividido[0]}')\n",
    "print(f'Quantas letras tem o seu primeiro nome: {(len(nome_dividido[0]))}')"
   ]
  },
  {
   "cell_type": "code",
   "execution_count": 6,
   "metadata": {},
   "outputs": [
    {
     "name": "stdout",
     "output_type": "stream",
     "text": [
      "['1265']\n",
      "Unidade: 5\n",
      "Dezena: 6\n",
      "Centena: 2\n",
      "Milhar: 1\n"
     ]
    }
   ],
   "source": [
    "num = int(input('Digite um número: '))\n",
    "n = str(num)\n",
    "\n",
    "print(n.split())\n",
    "\n",
    "print(f'Unidade: {n[3]}')\n",
    "print(f'Dezena: {n[2]}')\n",
    "print(f'Centena: {n[1]}')\n",
    "print(f'Milhar: {n[0]}')\n"
   ]
  },
  {
   "cell_type": "code",
   "execution_count": 14,
   "metadata": {},
   "outputs": [
    {
     "name": "stdout",
     "output_type": "stream",
     "text": [
      "santos\n",
      "sim\n",
      "True\n"
     ]
    }
   ],
   "source": [
    "cidade = str(input('Nome da cidade: ')).strip()\n",
    "print(cidade)\n",
    "\n",
    "if cidade[:5].lower() == 'santo':\n",
    "    print('sim')\n",
    "\n",
    "print(cidade[:5].lower() == 'santo')"
   ]
  },
  {
   "cell_type": "code",
   "execution_count": 15,
   "metadata": {},
   "outputs": [
    {
     "name": "stdout",
     "output_type": "stream",
     "text": [
      "Seu nome tem SIlva?  True\n"
     ]
    }
   ],
   "source": [
    "nome = str(input('digite o seu nome: '))\n",
    "print('Seu nome tem Silva? ', 'silva' in nome.lower())"
   ]
  },
  {
   "cell_type": "code",
   "execution_count": 20,
   "metadata": {},
   "outputs": [
    {
     "name": "stdout",
     "output_type": "stream",
     "text": [
      "ARARA AZUL\n",
      "A letra A aparece 4\n",
      "A primeira letra A apareceu na posição: 1\n",
      "A última letra A apareceu na posição 7\n"
     ]
    }
   ],
   "source": [
    "frase  = str(input('Digite uma frase: ')).upper().strip()\n",
    "print(frase)\n",
    "print(f'A letra A aparece {frase.count('A')}')\n",
    "print(f'A primeira letra A apareceu na posição: {frase.find('A')+1}')\n",
    "print(f'A última letra A apareceu na posição {frase.rfind('A')+1}')"
   ]
  },
  {
   "cell_type": "code",
   "execution_count": 21,
   "metadata": {},
   "outputs": [
    {
     "name": "stdout",
     "output_type": "stream",
     "text": [
      "['maria', 'souza']\n"
     ]
    }
   ],
   "source": [
    "n = str(input('Digite o seu nome: ')).strip()\n",
    "nome = n.split()\n",
    "print(f'O seu primeiro nome é: {nome[0]}')\n",
    "print(f'O seu ultimo nome é: {nome[-1]}')"
   ]
  }
 ],
 "metadata": {
  "kernelspec": {
   "display_name": "Python 3",
   "language": "python",
   "name": "python3"
  },
  "language_info": {
   "codemirror_mode": {
    "name": "ipython",
    "version": 3
   },
   "file_extension": ".py",
   "mimetype": "text/x-python",
   "name": "python",
   "nbconvert_exporter": "python",
   "pygments_lexer": "ipython3",
   "version": "3.13.0"
  }
 },
 "nbformat": 4,
 "nbformat_minor": 2
}
